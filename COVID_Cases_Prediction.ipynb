{
  "cells": [
    {
      "cell_type": "markdown",
      "id": "14c780c5-3fc9-44de-8f68-fe17b53adb51",
      "metadata": {
        "tags": [],
        "id": "14c780c5-3fc9-44de-8f68-fe17b53adb51"
      },
      "source": [
        "# COVID-19 Cases Prediction"
      ]
    },
    {
      "cell_type": "code",
      "execution_count": 41,
      "id": "09d45bd5-e76f-4a7f-ae19-6daaa5e060e0",
      "metadata": {
        "tags": [],
        "id": "09d45bd5-e76f-4a7f-ae19-6daaa5e060e0",
        "outputId": "4bfaa17c-990b-44ef-b99d-589df1601960",
        "colab": {
          "base_uri": "https://localhost:8080/"
        }
      },
      "outputs": [
        {
          "output_type": "stream",
          "name": "stdout",
          "text": [
            "Thu Feb 15 05:40:38 2024       \n",
            "+---------------------------------------------------------------------------------------+\n",
            "| NVIDIA-SMI 535.104.05             Driver Version: 535.104.05   CUDA Version: 12.2     |\n",
            "|-----------------------------------------+----------------------+----------------------+\n",
            "| GPU  Name                 Persistence-M | Bus-Id        Disp.A | Volatile Uncorr. ECC |\n",
            "| Fan  Temp   Perf          Pwr:Usage/Cap |         Memory-Usage | GPU-Util  Compute M. |\n",
            "|                                         |                      |               MIG M. |\n",
            "|=========================================+======================+======================|\n",
            "|   0  Tesla T4                       Off | 00000000:00:04.0 Off |                    0 |\n",
            "| N/A   71C    P0              32W /  70W |    159MiB / 15360MiB |      0%      Default |\n",
            "|                                         |                      |                  N/A |\n",
            "+-----------------------------------------+----------------------+----------------------+\n",
            "                                                                                         \n",
            "+---------------------------------------------------------------------------------------+\n",
            "| Processes:                                                                            |\n",
            "|  GPU   GI   CI        PID   Type   Process name                            GPU Memory |\n",
            "|        ID   ID                                                             Usage      |\n",
            "|=======================================================================================|\n",
            "+---------------------------------------------------------------------------------------+\n"
          ]
        }
      ],
      "source": [
        "!nvidia-smi"
      ]
    },
    {
      "cell_type": "code",
      "source": [
        "!git clone https://github.com/hungoscar0005/COVID-19_daily_cases_prediction.git"
      ],
      "metadata": {
        "id": "vKqLJDemM0Mq",
        "outputId": "39bdbecc-cc93-4ac7-c984-66bef629fd73",
        "colab": {
          "base_uri": "https://localhost:8080/"
        }
      },
      "id": "vKqLJDemM0Mq",
      "execution_count": 42,
      "outputs": [
        {
          "output_type": "stream",
          "name": "stdout",
          "text": [
            "fatal: destination path 'COVID-19_daily_cases_prediction' already exists and is not an empty directory.\n"
          ]
        }
      ]
    },
    {
      "cell_type": "markdown",
      "id": "07a5eb62-8aa1-480d-be8a-a806e7f673f2",
      "metadata": {
        "id": "07a5eb62-8aa1-480d-be8a-a806e7f673f2"
      },
      "source": [
        "## Import packages"
      ]
    },
    {
      "cell_type": "code",
      "execution_count": 43,
      "id": "60dcf099-64d6-4154-9794-0086700da529",
      "metadata": {
        "tags": [],
        "id": "60dcf099-64d6-4154-9794-0086700da529"
      },
      "outputs": [],
      "source": [
        "# Numerical Operations\n",
        "import  math\n",
        "import numpy as np\n",
        "\n",
        "#Reading/Writing Data\n",
        "import pandas as pd\n",
        "import os\n",
        "import csv\n",
        "\n",
        "#For Progress Bar\n",
        "from tqdm import tqdm\n",
        "\n",
        "#Pytorch\n",
        "import torch\n",
        "import torch.nn as nn\n",
        "from torch.utils.data import Dataset, DataLoader, random_split\n",
        "\n",
        "#For plotting learning curve\n",
        "from torch.utils.tensorboard import SummaryWriter"
      ]
    },
    {
      "cell_type": "markdown",
      "id": "75ef6715-3156-4c9f-98ee-5cbf78000efb",
      "metadata": {
        "id": "75ef6715-3156-4c9f-98ee-5cbf78000efb"
      },
      "source": [
        "## Some Utility Functions\n",
        "You do not need to modify this part."
      ]
    },
    {
      "cell_type": "code",
      "execution_count": 44,
      "id": "fccf6bfe-baf3-4a7e-8f15-d9af3664a2ee",
      "metadata": {
        "tags": [],
        "id": "fccf6bfe-baf3-4a7e-8f15-d9af3664a2ee"
      },
      "outputs": [],
      "source": [
        "def same_seed(seed):\n",
        "    '''Fixes random number generator seeds for reproducibility.'''\n",
        "    torch.backends.cudnn.deterministic = True    #cudnn(CUDA Deep Neural Network) 為加速神經網路的library,設置deterministic=true,隨機性將被禁用\n",
        "    torch.backends.cudnn.benchmark = False       #關閉cudnn的性能優化，cudnn會通過優化convolution等操作來提升性能，但可能導致運行結果不一致。\n",
        "    np.random.seed(seed)                         #設定NumPy函式庫中的隨機數產生器的種子，以確保NumPy產生的隨機數與隨機性運算的順序無關。\n",
        "    torch.manual_seed(seed)                      #設定PyTorch的隨機數產生器的種子，以確保模型的初始化、權重初始化等操作確定性。\n",
        "    if torch.cuda.is_available():\n",
        "        torch.cuda.manual_seed_all(seed)\n",
        "\n",
        "def train_valid_split(data_set, valid_ratio, seed):\n",
        "    '''Split provided training data into training set and validation set'''\n",
        "    valid_set_size = int(valid_ratio * len(data_set))\n",
        "    train_set_size = len(data_set) - valid_set_size\n",
        "    train_set, valid_set = random_split(data_set, [train_set_size, valid_set_size], generator=torch.Generator().manual_seed(seed))\n",
        "    return np.array(train_set), np.array(valid_set)\n",
        "\n",
        "#\n",
        "def predict(test_loader, model, device):\n",
        "    '''Make predictions on test data set, and no resources are wasted to compute gradients  '''\n",
        "    model.eval() # Set your model to evaluation mode. Disables Dropout, and batch normalization值不變, 也不計算gradient\n",
        "    preds = []\n",
        "    for x in tqdm(test_loader):\n",
        "        x = x.to(device)\n",
        "        with torch.no_grad():\n",
        "            pred = model(x)\n",
        "            preds.append(pred.detach().cpu())   #detach():預測階段不保留gradient訊息(減少內存消耗), cpu(): 將data從GPU移動到CPU(方便後續numpy操作)\n",
        "    preds = torch.cat(preds, dim=0).numpy()     #convert to numpy array\n",
        "    return preds\n",
        ""
      ]
    },
    {
      "cell_type": "markdown",
      "id": "6d95cb92-6ac0-42c4-be1e-fb106f20533f",
      "metadata": {
        "tags": [],
        "id": "6d95cb92-6ac0-42c4-be1e-fb106f20533f"
      },
      "source": [
        "## Dataset"
      ]
    },
    {
      "cell_type": "code",
      "execution_count": 45,
      "id": "ddf3d1e0-974b-4240-8ad5-347c9f551c73",
      "metadata": {
        "tags": [],
        "id": "ddf3d1e0-974b-4240-8ad5-347c9f551c73"
      },
      "outputs": [],
      "source": [
        "class COVID19Dataset(Dataset):          #Inheritance Pytorch Dataset\n",
        "    '''\n",
        "    x: Features.\n",
        "    y: Targets, if none, do prediction.\n",
        "    '''\n",
        "    def __init__(self, x, y=None):      #constructor\n",
        "        if y is None:\n",
        "            self.y = y\n",
        "        else:\n",
        "            self.y = torch.FloatTensor(y)\n",
        "        self.x = torch.FloatTensor(x)\n",
        "\n",
        "    def __getitem__(self, idx):\n",
        "        if self.y is None:\n",
        "            return self.x[idx]\n",
        "        else:\n",
        "            return self.x[idx], self.y[idx]\n",
        "\n",
        "    def __len__(self):\n",
        "        return len(self.x)"
      ]
    },
    {
      "cell_type": "markdown",
      "id": "0742fffa-bcf5-418e-be89-60e34774ab76",
      "metadata": {
        "tags": [],
        "id": "0742fffa-bcf5-418e-be89-60e34774ab76"
      },
      "source": [
        "## Neural Network Model\n",
        "Try out different model architectures by modifying the class below."
      ]
    },
    {
      "cell_type": "code",
      "execution_count": 46,
      "id": "8d6e4e34-658b-4618-a44c-c4ada8bc5bb7",
      "metadata": {
        "tags": [],
        "id": "8d6e4e34-658b-4618-a44c-c4ada8bc5bb7"
      },
      "outputs": [],
      "source": [
        "class My_Model(nn.Module):\n",
        "    def __init__(self, input_dim):\n",
        "        super(My_Model, self).__init__()   #call parent class(nn.Module) __init__ constructor\n",
        "        self.layers = nn.Sequential(\n",
        "            nn.Linear(input_dim, 16),  #fully-connected layer\n",
        "            nn.ReLU(),                 #activation function\n",
        "            nn.Linear(16, 8),\n",
        "            nn.ReLU(),\n",
        "            nn.Linear(8, 1)\n",
        "        )\n",
        "\n",
        "    def forward(self, x):\n",
        "        '''Forward pass: compute ouput of NN'''\n",
        "        x = self.layers(x)\n",
        "        x = x.squeeze(1) # (B, 1) -> (B) , remove the specified dimension with length = 1\n",
        "        return x"
      ]
    },
    {
      "cell_type": "markdown",
      "id": "524a9e5f-f413-4b2e-9799-c6cca4f2760f",
      "metadata": {
        "tags": [],
        "id": "524a9e5f-f413-4b2e-9799-c6cca4f2760f"
      },
      "source": [
        "## Feature Selection\n",
        "Choose features you deem useful by modifying the function below."
      ]
    },
    {
      "cell_type": "code",
      "execution_count": 47,
      "id": "efc3ec28-0af5-4ebb-a5ba-be6f39794274",
      "metadata": {
        "tags": [],
        "id": "efc3ec28-0af5-4ebb-a5ba-be6f39794274"
      },
      "outputs": [],
      "source": [
        "def select_feat(train_data, valid_data, test_data, select_all=True):\n",
        "    '''Selects useful features to perform regression'''\n",
        "    y_train, y_valid = train_data[:,-1], valid_data[:,-1]\n",
        "    raw_x_train, raw_x_valid, raw_x_test = train_data[:,:-1], valid_data[:,:-1], test_data\n",
        "\n",
        "    if select_all:\n",
        "        feat_idx = list(range(raw_x_train.shape[1]))\n",
        "    else:\n",
        "        feat_idx = list(range(35, raw_x_train.shape[1]))\n",
        "\n",
        "    return raw_x_train[:,feat_idx], raw_x_valid[:,feat_idx], raw_x_test[:,feat_idx], y_train, y_valid"
      ]
    },
    {
      "cell_type": "markdown",
      "id": "0f95677d-4961-4011-a223-519d9e815694",
      "metadata": {
        "tags": [],
        "id": "0f95677d-4961-4011-a223-519d9e815694"
      },
      "source": [
        "## Training Loop"
      ]
    },
    {
      "cell_type": "code",
      "execution_count": 48,
      "id": "9365580c-078f-4baf-a1b9-14f94e8bc014",
      "metadata": {
        "tags": [],
        "id": "9365580c-078f-4baf-a1b9-14f94e8bc014"
      },
      "outputs": [],
      "source": [
        "def trainer(train_loader, valid_loader, model, config, device):\n",
        "\n",
        "    criterion = nn.MSELoss(reduction='mean') # Define your loss function.\n",
        "\n",
        "    # Define optimization algorithm.\n",
        "    optimizer = torch.optim.SGD(model.parameters(), lr=config['learning_rate'], momentum=0.7)\n",
        "    writer = SummaryWriter() # Writer of tensoboard.\n",
        "\n",
        "    if not os.path.isdir('./models'):\n",
        "        os.mkdir('./models') # Create directory of saving models.\n",
        "\n",
        "    n_epochs, best_loss, step, early_stop_count = config['n_epochs'], math.inf, 0, 0\n",
        "\n",
        "    #Neural Network Training Loop\n",
        "    for epoch in range(n_epochs):\n",
        "        model.train() # Set your model to train mode.\n",
        "        loss_record = []\n",
        "\n",
        "        # tqdm is a package to visualize your training progress.\n",
        "        train_pbar = tqdm(train_loader, position=0, leave=True)\n",
        "\n",
        "        for x, y in train_pbar:\n",
        "            optimizer.zero_grad()               # Reset gradients of model parameters.\n",
        "            x, y = x.to(device), y.to(device)   # Move your data to device(GPU or CPU).\n",
        "            pred = model(x)                     # Input x to model to get pred\n",
        "            loss = criterion(pred, y)           # pred & y(期望值) 計算loss\n",
        "            loss.backward()                     # Compute gradient(backpropagation) of predictions loss. (計算loss的gradient)\n",
        "            optimizer.step()                    # Update model parameters.\n",
        "            step += 1\n",
        "            loss_record.append(loss.detach().item())\n",
        "\n",
        "            # Display current epoch number and loss on tqdm progress bar.\n",
        "            train_pbar.set_description(f'Epoch [{epoch+1}/{n_epochs}]')\n",
        "            train_pbar.set_postfix({'loss': loss.detach().item()})\n",
        "\n",
        "        mean_train_loss = sum(loss_record)/len(loss_record)  #compute averaged loss\n",
        "        writer.add_scalar('Loss/train', mean_train_loss, step) #visualize\n",
        "\n",
        "        #Neural Network Validation Loop\n",
        "        model.eval() # Set your model to evaluation mode.\n",
        "        loss_record = []\n",
        "        for x, y in valid_loader:\n",
        "            x, y = x.to(device), y.to(device)\n",
        "            with torch.no_grad():             #evaluation or testing時, 不希望model學習到資料的內容以及update參數,所以disable計算gradient\n",
        "                pred = model(x)\n",
        "                loss = criterion(pred, y)\n",
        "\n",
        "            loss_record.append(loss.item())\n",
        "\n",
        "        mean_valid_loss = sum(loss_record)/len(loss_record)\n",
        "        print(f'Epoch [{epoch+1}/{n_epochs}]: Train loss: {mean_train_loss:.4f}, Valid loss: {mean_valid_loss:.4f}')\n",
        "        writer.add_scalar('Loss/valid', mean_valid_loss, step)\n",
        "\n",
        "        if mean_valid_loss < best_loss:\n",
        "            best_loss = mean_valid_loss\n",
        "            torch.save(model.state_dict(), config['save_path']) # Save your best model\n",
        "            print('Saving model with loss {:.3f}...'.format(best_loss))\n",
        "            early_stop_count = 0\n",
        "        else:\n",
        "            early_stop_count += 1\n",
        "\n",
        "        if early_stop_count >= config['early_stop']:\n",
        "            print('\\nModel is not improving, so we halt the training session.')\n",
        "            return"
      ]
    },
    {
      "cell_type": "markdown",
      "id": "ba02b712-f325-4036-8ad6-34f020fc0922",
      "metadata": {
        "tags": [],
        "id": "ba02b712-f325-4036-8ad6-34f020fc0922"
      },
      "source": [
        "## Plot learning curves with 'tensorboard'\n",
        "visualize your training progress"
      ]
    },
    {
      "cell_type": "code",
      "execution_count": 56,
      "id": "4744a79d-f856-4a08-a099-48dfd9ca01e0",
      "metadata": {
        "tags": [],
        "id": "4744a79d-f856-4a08-a099-48dfd9ca01e0"
      },
      "outputs": [],
      "source": [
        "# %reload_ext tensorboard\n",
        "# %tensorboard --logdir='./runs/'"
      ]
    },
    {
      "cell_type": "markdown",
      "id": "9d20b29f-a445-4553-9a3c-b689539f7f65",
      "metadata": {
        "tags": [],
        "id": "9d20b29f-a445-4553-9a3c-b689539f7f65"
      },
      "source": [
        "## Configurations\n",
        "config contains hyper-parameters for training and the path to save your model."
      ]
    },
    {
      "cell_type": "code",
      "execution_count": 57,
      "id": "ec5e9c9a-7597-4cc6-837f-86c3364fb904",
      "metadata": {
        "tags": [],
        "id": "ec5e9c9a-7597-4cc6-837f-86c3364fb904"
      },
      "outputs": [],
      "source": [
        "device = 'cuda' if torch.cuda.is_available() else 'cpu'\n",
        "config = {\n",
        "    'seed': 6666,         # seed number\n",
        "    'select_all': True,   # Whether to use all features.\n",
        "    'valid_ratio': 0.2,   # validation_size = train_size * valid_ratio\n",
        "    'n_epochs': 100,     # Number of epochs.\n",
        "    'batch_size': 256,\n",
        "    'learning_rate': 1e-5,\n",
        "    'early_stop': 5,    # If model has not improved for this many consecutive epochs, stop training.\n",
        "    'save_path': './models/model.ckpt'  # Your model will be saved here.\n",
        "}"
      ]
    },
    {
      "cell_type": "markdown",
      "id": "236c04a0-b918-4bb1-9d16-4a8bb67795e8",
      "metadata": {
        "tags": [],
        "id": "236c04a0-b918-4bb1-9d16-4a8bb67795e8"
      },
      "source": [
        "## Dataloader\n",
        "Read data from files and set up training, validation, and testing sets. You do not need to modify this part."
      ]
    },
    {
      "cell_type": "code",
      "execution_count": 59,
      "id": "f42ed966-af6f-4d1c-91e5-a1c62b73d46a",
      "metadata": {
        "tags": [],
        "id": "f42ed966-af6f-4d1c-91e5-a1c62b73d46a",
        "outputId": "08455955-eefb-4819-c42a-18bbd7145fc9",
        "colab": {
          "base_uri": "https://localhost:8080/"
        }
      },
      "outputs": [
        {
          "output_type": "stream",
          "name": "stdout",
          "text": [
            "train_data size: (798, 88) \n",
            "valid_data size: (199, 88) \n",
            "test_data size: (997, 88)\n",
            "number of features: 87\n"
          ]
        }
      ],
      "source": [
        "# Set seed for reproducibility\n",
        "same_seed(config['seed'])\n",
        "\n",
        "\n",
        "# train_data size: 3009 x 89 (35 states + 18 features x 3 days)\n",
        "# test_data size: 997 x 88 (without last day's positive rate)\n",
        "train_data, test_data = pd.read_csv('./COVID-19_daily_cases_prediction/data/covid_test.csv').values, pd.read_csv('./COVID-19_daily_cases_prediction/data/covid_test.csv').values\n",
        "train_data, valid_data = train_valid_split(train_data, config['valid_ratio'], config['seed'])\n",
        "\n",
        "# Print out the data size.\n",
        "print(f\"\"\"train_data size: {train_data.shape}\n",
        "valid_data size: {valid_data.shape}\n",
        "test_data size: {test_data.shape}\"\"\")\n",
        "\n",
        "# Select features\n",
        "x_train, x_valid, x_test, y_train, y_valid = select_feat(train_data, valid_data, test_data, config['select_all'])\n",
        "\n",
        "# Print out the number of features.\n",
        "print(f'number of features: {x_train.shape[1]}')\n",
        "\n",
        "train_dataset, valid_dataset, test_dataset = COVID19Dataset(x_train, y_train), \\\n",
        "                                            COVID19Dataset(x_valid, y_valid), \\\n",
        "                                            COVID19Dataset(x_test)\n",
        "\n",
        "# Pytorch data loader loads pytorch dataset into batches.\n",
        "train_loader = DataLoader(train_dataset, batch_size=config['batch_size'], shuffle=True, pin_memory=True)\n",
        "valid_loader = DataLoader(valid_dataset, batch_size=config['batch_size'], shuffle=True, pin_memory=True)\n",
        "test_loader = DataLoader(test_dataset, batch_size=config['batch_size'], shuffle=False, pin_memory=True)  #disable shuffle when testing"
      ]
    },
    {
      "cell_type": "markdown",
      "id": "3294cd3f-9162-47ab-9074-dc1f77b12268",
      "metadata": {
        "tags": [],
        "id": "3294cd3f-9162-47ab-9074-dc1f77b12268"
      },
      "source": [
        "## Start training"
      ]
    },
    {
      "cell_type": "code",
      "execution_count": 60,
      "id": "3e75c28f-5137-4ad9-a609-e1100cf2700b",
      "metadata": {
        "tags": [],
        "id": "3e75c28f-5137-4ad9-a609-e1100cf2700b",
        "outputId": "7d8ce4bb-cf37-49be-a9e6-ebaf637c78c2",
        "colab": {
          "base_uri": "https://localhost:8080/"
        }
      },
      "outputs": [
        {
          "output_type": "stream",
          "name": "stderr",
          "text": [
            "Epoch [1/100]: 100%|██████████| 4/4 [00:00<00:00, 50.89it/s, loss=370]\n"
          ]
        },
        {
          "output_type": "stream",
          "name": "stdout",
          "text": [
            "Epoch [1/100]: Train loss: 437.8721, Valid loss: 204.3022\n",
            "Saving model with loss 204.302...\n"
          ]
        },
        {
          "output_type": "stream",
          "name": "stderr",
          "text": [
            "Epoch [2/100]: 100%|██████████| 4/4 [00:00<00:00, 58.06it/s, loss=125]\n"
          ]
        },
        {
          "output_type": "stream",
          "name": "stdout",
          "text": [
            "Epoch [2/100]: Train loss: 166.2592, Valid loss: 92.6531\n",
            "Saving model with loss 92.653...\n"
          ]
        },
        {
          "output_type": "stream",
          "name": "stderr",
          "text": [
            "Epoch [3/100]: 100%|██████████| 4/4 [00:00<00:00, 66.07it/s, loss=38.8]\n"
          ]
        },
        {
          "output_type": "stream",
          "name": "stdout",
          "text": [
            "Epoch [3/100]: Train loss: 68.6555, Valid loss: 65.1997\n",
            "Saving model with loss 65.200...\n"
          ]
        },
        {
          "output_type": "stream",
          "name": "stderr",
          "text": [
            "Epoch [4/100]: 100%|██████████| 4/4 [00:00<00:00, 62.69it/s, loss=41.9]\n"
          ]
        },
        {
          "output_type": "stream",
          "name": "stdout",
          "text": [
            "Epoch [4/100]: Train loss: 39.2388, Valid loss: 27.2907\n",
            "Saving model with loss 27.291...\n"
          ]
        },
        {
          "output_type": "stream",
          "name": "stderr",
          "text": [
            "Epoch [5/100]: 100%|██████████| 4/4 [00:00<00:00, 78.55it/s, loss=17.1]\n"
          ]
        },
        {
          "output_type": "stream",
          "name": "stdout",
          "text": [
            "Epoch [5/100]: Train loss: 23.3682, Valid loss: 28.3191\n"
          ]
        },
        {
          "output_type": "stream",
          "name": "stderr",
          "text": [
            "Epoch [6/100]: 100%|██████████| 4/4 [00:00<00:00, 83.85it/s, loss=17.2]\n"
          ]
        },
        {
          "output_type": "stream",
          "name": "stdout",
          "text": [
            "Epoch [6/100]: Train loss: 22.5294, Valid loss: 28.1077\n"
          ]
        },
        {
          "output_type": "stream",
          "name": "stderr",
          "text": [
            "Epoch [7/100]: 100%|██████████| 4/4 [00:00<00:00, 74.50it/s, loss=23.7]\n"
          ]
        },
        {
          "output_type": "stream",
          "name": "stdout",
          "text": [
            "Epoch [7/100]: Train loss: 23.3183, Valid loss: 27.9095\n"
          ]
        },
        {
          "output_type": "stream",
          "name": "stderr",
          "text": [
            "Epoch [8/100]: 100%|██████████| 4/4 [00:00<00:00, 75.15it/s, loss=16.7]\n"
          ]
        },
        {
          "output_type": "stream",
          "name": "stdout",
          "text": [
            "Epoch [8/100]: Train loss: 21.2567, Valid loss: 23.0347\n",
            "Saving model with loss 23.035...\n"
          ]
        },
        {
          "output_type": "stream",
          "name": "stderr",
          "text": [
            "Epoch [9/100]: 100%|██████████| 4/4 [00:00<00:00, 53.32it/s, loss=18.1]\n"
          ]
        },
        {
          "output_type": "stream",
          "name": "stdout",
          "text": [
            "Epoch [9/100]: Train loss: 19.4864, Valid loss: 22.2319\n",
            "Saving model with loss 22.232...\n"
          ]
        },
        {
          "output_type": "stream",
          "name": "stderr",
          "text": [
            "Epoch [10/100]: 100%|██████████| 4/4 [00:00<00:00, 75.37it/s, loss=16.9]\n"
          ]
        },
        {
          "output_type": "stream",
          "name": "stdout",
          "text": [
            "Epoch [10/100]: Train loss: 18.7077, Valid loss: 21.6574\n",
            "Saving model with loss 21.657...\n"
          ]
        },
        {
          "output_type": "stream",
          "name": "stderr",
          "text": [
            "Epoch [11/100]: 100%|██████████| 4/4 [00:00<00:00, 95.13it/s, loss=17.5]\n"
          ]
        },
        {
          "output_type": "stream",
          "name": "stdout",
          "text": [
            "Epoch [11/100]: Train loss: 18.4561, Valid loss: 21.2587\n",
            "Saving model with loss 21.259...\n"
          ]
        },
        {
          "output_type": "stream",
          "name": "stderr",
          "text": [
            "Epoch [12/100]: 100%|██████████| 4/4 [00:00<00:00, 101.56it/s, loss=31.6]\n"
          ]
        },
        {
          "output_type": "stream",
          "name": "stdout",
          "text": [
            "Epoch [12/100]: Train loss: 21.5245, Valid loss: 20.6142\n",
            "Saving model with loss 20.614...\n"
          ]
        },
        {
          "output_type": "stream",
          "name": "stderr",
          "text": [
            "Epoch [13/100]: 100%|██████████| 4/4 [00:00<00:00, 92.33it/s, loss=12.9]\n"
          ]
        },
        {
          "output_type": "stream",
          "name": "stdout",
          "text": [
            "Epoch [13/100]: Train loss: 16.6648, Valid loss: 20.9753\n"
          ]
        },
        {
          "output_type": "stream",
          "name": "stderr",
          "text": [
            "Epoch [14/100]: 100%|██████████| 4/4 [00:00<00:00, 96.22it/s, loss=14.6]\n"
          ]
        },
        {
          "output_type": "stream",
          "name": "stdout",
          "text": [
            "Epoch [14/100]: Train loss: 16.8616, Valid loss: 19.7088\n",
            "Saving model with loss 19.709...\n"
          ]
        },
        {
          "output_type": "stream",
          "name": "stderr",
          "text": [
            "Epoch [15/100]: 100%|██████████| 4/4 [00:00<00:00, 87.87it/s, loss=17.5]\n"
          ]
        },
        {
          "output_type": "stream",
          "name": "stdout",
          "text": [
            "Epoch [15/100]: Train loss: 17.0772, Valid loss: 19.5414\n",
            "Saving model with loss 19.541...\n"
          ]
        },
        {
          "output_type": "stream",
          "name": "stderr",
          "text": [
            "Epoch [16/100]: 100%|██████████| 4/4 [00:00<00:00, 57.45it/s, loss=19.5]\n"
          ]
        },
        {
          "output_type": "stream",
          "name": "stdout",
          "text": [
            "Epoch [16/100]: Train loss: 17.2666, Valid loss: 19.0608\n",
            "Saving model with loss 19.061...\n"
          ]
        },
        {
          "output_type": "stream",
          "name": "stderr",
          "text": [
            "Epoch [17/100]: 100%|██████████| 4/4 [00:00<00:00, 69.41it/s, loss=12.5]\n"
          ]
        },
        {
          "output_type": "stream",
          "name": "stdout",
          "text": [
            "Epoch [17/100]: Train loss: 15.7434, Valid loss: 19.8797\n"
          ]
        },
        {
          "output_type": "stream",
          "name": "stderr",
          "text": [
            "Epoch [18/100]: 100%|██████████| 4/4 [00:00<00:00, 62.63it/s, loss=19.7]\n"
          ]
        },
        {
          "output_type": "stream",
          "name": "stdout",
          "text": [
            "Epoch [18/100]: Train loss: 17.1514, Valid loss: 19.7441\n"
          ]
        },
        {
          "output_type": "stream",
          "name": "stderr",
          "text": [
            "Epoch [19/100]: 100%|██████████| 4/4 [00:00<00:00, 83.17it/s, loss=20.4]\n"
          ]
        },
        {
          "output_type": "stream",
          "name": "stdout",
          "text": [
            "Epoch [19/100]: Train loss: 17.2628, Valid loss: 18.1328\n",
            "Saving model with loss 18.133...\n"
          ]
        },
        {
          "output_type": "stream",
          "name": "stderr",
          "text": [
            "Epoch [20/100]: 100%|██████████| 4/4 [00:00<00:00, 102.37it/s, loss=10.4]\n"
          ]
        },
        {
          "output_type": "stream",
          "name": "stdout",
          "text": [
            "Epoch [20/100]: Train loss: 14.7371, Valid loss: 17.8762\n",
            "Saving model with loss 17.876...\n"
          ]
        },
        {
          "output_type": "stream",
          "name": "stderr",
          "text": [
            "Epoch [21/100]: 100%|██████████| 4/4 [00:00<00:00, 121.88it/s, loss=15.5]\n"
          ]
        },
        {
          "output_type": "stream",
          "name": "stdout",
          "text": [
            "Epoch [21/100]: Train loss: 15.9165, Valid loss: 17.8617\n",
            "Saving model with loss 17.862...\n"
          ]
        },
        {
          "output_type": "stream",
          "name": "stderr",
          "text": [
            "Epoch [22/100]: 100%|██████████| 4/4 [00:00<00:00, 154.36it/s, loss=16.2]\n"
          ]
        },
        {
          "output_type": "stream",
          "name": "stdout",
          "text": [
            "Epoch [22/100]: Train loss: 15.6721, Valid loss: 17.6147\n",
            "Saving model with loss 17.615...\n"
          ]
        },
        {
          "output_type": "stream",
          "name": "stderr",
          "text": [
            "Epoch [23/100]: 100%|██████████| 4/4 [00:00<00:00, 120.85it/s, loss=22.1]\n"
          ]
        },
        {
          "output_type": "stream",
          "name": "stdout",
          "text": [
            "Epoch [23/100]: Train loss: 16.5403, Valid loss: 16.5529\n",
            "Saving model with loss 16.553...\n"
          ]
        },
        {
          "output_type": "stream",
          "name": "stderr",
          "text": [
            "Epoch [24/100]: 100%|██████████| 4/4 [00:00<00:00, 145.33it/s, loss=9.35]\n"
          ]
        },
        {
          "output_type": "stream",
          "name": "stdout",
          "text": [
            "Epoch [24/100]: Train loss: 13.5185, Valid loss: 16.6678\n"
          ]
        },
        {
          "output_type": "stream",
          "name": "stderr",
          "text": [
            "Epoch [25/100]: 100%|██████████| 4/4 [00:00<00:00, 124.06it/s, loss=11.3]\n"
          ]
        },
        {
          "output_type": "stream",
          "name": "stdout",
          "text": [
            "Epoch [25/100]: Train loss: 13.9043, Valid loss: 16.1133\n",
            "Saving model with loss 16.113...\n"
          ]
        },
        {
          "output_type": "stream",
          "name": "stderr",
          "text": [
            "Epoch [26/100]: 100%|██████████| 4/4 [00:00<00:00, 133.67it/s, loss=11.4]\n"
          ]
        },
        {
          "output_type": "stream",
          "name": "stdout",
          "text": [
            "Epoch [26/100]: Train loss: 13.7029, Valid loss: 16.2520\n"
          ]
        },
        {
          "output_type": "stream",
          "name": "stderr",
          "text": [
            "Epoch [27/100]: 100%|██████████| 4/4 [00:00<00:00, 137.12it/s, loss=17.8]\n"
          ]
        },
        {
          "output_type": "stream",
          "name": "stdout",
          "text": [
            "Epoch [27/100]: Train loss: 14.9569, Valid loss: 16.8998\n"
          ]
        },
        {
          "output_type": "stream",
          "name": "stderr",
          "text": [
            "Epoch [28/100]: 100%|██████████| 4/4 [00:00<00:00, 127.39it/s, loss=13.9]\n"
          ]
        },
        {
          "output_type": "stream",
          "name": "stdout",
          "text": [
            "Epoch [28/100]: Train loss: 14.4349, Valid loss: 20.4728\n"
          ]
        },
        {
          "output_type": "stream",
          "name": "stderr",
          "text": [
            "Epoch [29/100]: 100%|██████████| 4/4 [00:00<00:00, 149.40it/s, loss=12.7]\n"
          ]
        },
        {
          "output_type": "stream",
          "name": "stdout",
          "text": [
            "Epoch [29/100]: Train loss: 16.3837, Valid loss: 16.2796\n"
          ]
        },
        {
          "output_type": "stream",
          "name": "stderr",
          "text": [
            "Epoch [30/100]: 100%|██████████| 4/4 [00:00<00:00, 131.66it/s, loss=15.6]\n"
          ]
        },
        {
          "output_type": "stream",
          "name": "stdout",
          "text": [
            "Epoch [30/100]: Train loss: 14.9536, Valid loss: 18.0187\n"
          ]
        },
        {
          "output_type": "stream",
          "name": "stderr",
          "text": [
            "Epoch [31/100]: 100%|██████████| 4/4 [00:00<00:00, 139.20it/s, loss=23.7]\n"
          ]
        },
        {
          "output_type": "stream",
          "name": "stdout",
          "text": [
            "Epoch [31/100]: Train loss: 16.5994, Valid loss: 15.5433\n",
            "Saving model with loss 15.543...\n"
          ]
        },
        {
          "output_type": "stream",
          "name": "stderr",
          "text": [
            "Epoch [32/100]: 100%|██████████| 4/4 [00:00<00:00, 141.40it/s, loss=10.6]\n"
          ]
        },
        {
          "output_type": "stream",
          "name": "stdout",
          "text": [
            "Epoch [32/100]: Train loss: 13.2721, Valid loss: 15.3970\n",
            "Saving model with loss 15.397...\n"
          ]
        },
        {
          "output_type": "stream",
          "name": "stderr",
          "text": [
            "Epoch [33/100]: 100%|██████████| 4/4 [00:00<00:00, 126.18it/s, loss=15.5]\n"
          ]
        },
        {
          "output_type": "stream",
          "name": "stdout",
          "text": [
            "Epoch [33/100]: Train loss: 14.0762, Valid loss: 15.2000\n",
            "Saving model with loss 15.200...\n"
          ]
        },
        {
          "output_type": "stream",
          "name": "stderr",
          "text": [
            "Epoch [34/100]: 100%|██████████| 4/4 [00:00<00:00, 126.19it/s, loss=16.1]\n"
          ]
        },
        {
          "output_type": "stream",
          "name": "stdout",
          "text": [
            "Epoch [34/100]: Train loss: 14.3398, Valid loss: 16.0197\n"
          ]
        },
        {
          "output_type": "stream",
          "name": "stderr",
          "text": [
            "Epoch [35/100]: 100%|██████████| 4/4 [00:00<00:00, 135.90it/s, loss=9]\n"
          ]
        },
        {
          "output_type": "stream",
          "name": "stdout",
          "text": [
            "Epoch [35/100]: Train loss: 12.7247, Valid loss: 17.5931\n"
          ]
        },
        {
          "output_type": "stream",
          "name": "stderr",
          "text": [
            "Epoch [36/100]: 100%|██████████| 4/4 [00:00<00:00, 132.63it/s, loss=16.1]\n"
          ]
        },
        {
          "output_type": "stream",
          "name": "stdout",
          "text": [
            "Epoch [36/100]: Train loss: 14.5659, Valid loss: 15.9043\n"
          ]
        },
        {
          "output_type": "stream",
          "name": "stderr",
          "text": [
            "Epoch [37/100]: 100%|██████████| 4/4 [00:00<00:00, 118.55it/s, loss=9.42]\n"
          ]
        },
        {
          "output_type": "stream",
          "name": "stdout",
          "text": [
            "Epoch [37/100]: Train loss: 12.9817, Valid loss: 14.4078\n",
            "Saving model with loss 14.408...\n"
          ]
        },
        {
          "output_type": "stream",
          "name": "stderr",
          "text": [
            "Epoch [38/100]: 100%|██████████| 4/4 [00:00<00:00, 123.54it/s, loss=13.3]\n"
          ]
        },
        {
          "output_type": "stream",
          "name": "stdout",
          "text": [
            "Epoch [38/100]: Train loss: 13.2316, Valid loss: 15.0130\n"
          ]
        },
        {
          "output_type": "stream",
          "name": "stderr",
          "text": [
            "Epoch [39/100]: 100%|██████████| 4/4 [00:00<00:00, 124.28it/s, loss=10.1]\n"
          ]
        },
        {
          "output_type": "stream",
          "name": "stdout",
          "text": [
            "Epoch [39/100]: Train loss: 12.3783, Valid loss: 13.9917\n",
            "Saving model with loss 13.992...\n"
          ]
        },
        {
          "output_type": "stream",
          "name": "stderr",
          "text": [
            "Epoch [40/100]: 100%|██████████| 4/4 [00:00<00:00, 127.69it/s, loss=12.5]\n"
          ]
        },
        {
          "output_type": "stream",
          "name": "stdout",
          "text": [
            "Epoch [40/100]: Train loss: 12.6819, Valid loss: 15.1620\n"
          ]
        },
        {
          "output_type": "stream",
          "name": "stderr",
          "text": [
            "Epoch [41/100]: 100%|██████████| 4/4 [00:00<00:00, 111.67it/s, loss=9.81]\n"
          ]
        },
        {
          "output_type": "stream",
          "name": "stdout",
          "text": [
            "Epoch [41/100]: Train loss: 12.2471, Valid loss: 13.8359\n",
            "Saving model with loss 13.836...\n"
          ]
        },
        {
          "output_type": "stream",
          "name": "stderr",
          "text": [
            "Epoch [42/100]: 100%|██████████| 4/4 [00:00<00:00, 143.37it/s, loss=9.45]\n"
          ]
        },
        {
          "output_type": "stream",
          "name": "stdout",
          "text": [
            "Epoch [42/100]: Train loss: 12.0042, Valid loss: 13.6822\n",
            "Saving model with loss 13.682...\n"
          ]
        },
        {
          "output_type": "stream",
          "name": "stderr",
          "text": [
            "Epoch [43/100]: 100%|██████████| 4/4 [00:00<00:00, 117.88it/s, loss=11.9]\n"
          ]
        },
        {
          "output_type": "stream",
          "name": "stdout",
          "text": [
            "Epoch [43/100]: Train loss: 12.5324, Valid loss: 13.9021\n"
          ]
        },
        {
          "output_type": "stream",
          "name": "stderr",
          "text": [
            "Epoch [44/100]: 100%|██████████| 4/4 [00:00<00:00, 122.62it/s, loss=10.5]\n"
          ]
        },
        {
          "output_type": "stream",
          "name": "stdout",
          "text": [
            "Epoch [44/100]: Train loss: 12.3365, Valid loss: 14.1895\n"
          ]
        },
        {
          "output_type": "stream",
          "name": "stderr",
          "text": [
            "Epoch [45/100]: 100%|██████████| 4/4 [00:00<00:00, 114.27it/s, loss=7.43]\n"
          ]
        },
        {
          "output_type": "stream",
          "name": "stdout",
          "text": [
            "Epoch [45/100]: Train loss: 11.5317, Valid loss: 14.0799\n"
          ]
        },
        {
          "output_type": "stream",
          "name": "stderr",
          "text": [
            "Epoch [46/100]: 100%|██████████| 4/4 [00:00<00:00, 125.35it/s, loss=8.33]\n"
          ]
        },
        {
          "output_type": "stream",
          "name": "stdout",
          "text": [
            "Epoch [46/100]: Train loss: 11.5453, Valid loss: 13.5034\n",
            "Saving model with loss 13.503...\n"
          ]
        },
        {
          "output_type": "stream",
          "name": "stderr",
          "text": [
            "Epoch [47/100]: 100%|██████████| 4/4 [00:00<00:00, 152.79it/s, loss=13.9]\n"
          ]
        },
        {
          "output_type": "stream",
          "name": "stdout",
          "text": [
            "Epoch [47/100]: Train loss: 12.6849, Valid loss: 13.4240\n",
            "Saving model with loss 13.424...\n"
          ]
        },
        {
          "output_type": "stream",
          "name": "stderr",
          "text": [
            "Epoch [48/100]: 100%|██████████| 4/4 [00:00<00:00, 107.97it/s, loss=10.1]\n"
          ]
        },
        {
          "output_type": "stream",
          "name": "stdout",
          "text": [
            "Epoch [48/100]: Train loss: 11.8060, Valid loss: 13.3133\n",
            "Saving model with loss 13.313...\n"
          ]
        },
        {
          "output_type": "stream",
          "name": "stderr",
          "text": [
            "Epoch [49/100]: 100%|██████████| 4/4 [00:00<00:00, 108.29it/s, loss=9.14]\n"
          ]
        },
        {
          "output_type": "stream",
          "name": "stdout",
          "text": [
            "Epoch [49/100]: Train loss: 11.6222, Valid loss: 13.3686\n"
          ]
        },
        {
          "output_type": "stream",
          "name": "stderr",
          "text": [
            "Epoch [50/100]: 100%|██████████| 4/4 [00:00<00:00, 114.74it/s, loss=23.4]\n"
          ]
        },
        {
          "output_type": "stream",
          "name": "stdout",
          "text": [
            "Epoch [50/100]: Train loss: 14.6863, Valid loss: 13.7542\n"
          ]
        },
        {
          "output_type": "stream",
          "name": "stderr",
          "text": [
            "Epoch [51/100]: 100%|██████████| 4/4 [00:00<00:00, 109.53it/s, loss=11.8]\n"
          ]
        },
        {
          "output_type": "stream",
          "name": "stdout",
          "text": [
            "Epoch [51/100]: Train loss: 12.4793, Valid loss: 13.1212\n",
            "Saving model with loss 13.121...\n"
          ]
        },
        {
          "output_type": "stream",
          "name": "stderr",
          "text": [
            "Epoch [52/100]: 100%|██████████| 4/4 [00:00<00:00, 136.62it/s, loss=7.6]\n"
          ]
        },
        {
          "output_type": "stream",
          "name": "stdout",
          "text": [
            "Epoch [52/100]: Train loss: 11.0929, Valid loss: 13.7555\n"
          ]
        },
        {
          "output_type": "stream",
          "name": "stderr",
          "text": [
            "Epoch [53/100]: 100%|██████████| 4/4 [00:00<00:00, 118.91it/s, loss=13.8]\n"
          ]
        },
        {
          "output_type": "stream",
          "name": "stdout",
          "text": [
            "Epoch [53/100]: Train loss: 12.5673, Valid loss: 13.1846\n"
          ]
        },
        {
          "output_type": "stream",
          "name": "stderr",
          "text": [
            "Epoch [54/100]: 100%|██████████| 4/4 [00:00<00:00, 127.48it/s, loss=8.53]\n"
          ]
        },
        {
          "output_type": "stream",
          "name": "stdout",
          "text": [
            "Epoch [54/100]: Train loss: 11.3387, Valid loss: 13.4837\n"
          ]
        },
        {
          "output_type": "stream",
          "name": "stderr",
          "text": [
            "Epoch [55/100]: 100%|██████████| 4/4 [00:00<00:00, 134.74it/s, loss=19.6]\n"
          ]
        },
        {
          "output_type": "stream",
          "name": "stdout",
          "text": [
            "Epoch [55/100]: Train loss: 14.1987, Valid loss: 13.0367\n",
            "Saving model with loss 13.037...\n"
          ]
        },
        {
          "output_type": "stream",
          "name": "stderr",
          "text": [
            "Epoch [56/100]: 100%|██████████| 4/4 [00:00<00:00, 113.48it/s, loss=9.23]\n"
          ]
        },
        {
          "output_type": "stream",
          "name": "stdout",
          "text": [
            "Epoch [56/100]: Train loss: 11.5068, Valid loss: 13.0099\n",
            "Saving model with loss 13.010...\n"
          ]
        },
        {
          "output_type": "stream",
          "name": "stderr",
          "text": [
            "Epoch [57/100]: 100%|██████████| 4/4 [00:00<00:00, 118.23it/s, loss=13.2]\n"
          ]
        },
        {
          "output_type": "stream",
          "name": "stdout",
          "text": [
            "Epoch [57/100]: Train loss: 12.3913, Valid loss: 13.4143\n"
          ]
        },
        {
          "output_type": "stream",
          "name": "stderr",
          "text": [
            "Epoch [58/100]: 100%|██████████| 4/4 [00:00<00:00, 135.37it/s, loss=11.6]\n"
          ]
        },
        {
          "output_type": "stream",
          "name": "stdout",
          "text": [
            "Epoch [58/100]: Train loss: 11.8098, Valid loss: 13.1746\n"
          ]
        },
        {
          "output_type": "stream",
          "name": "stderr",
          "text": [
            "Epoch [59/100]: 100%|██████████| 4/4 [00:00<00:00, 98.33it/s, loss=15.7]\n"
          ]
        },
        {
          "output_type": "stream",
          "name": "stdout",
          "text": [
            "Epoch [59/100]: Train loss: 12.8059, Valid loss: 14.2636\n"
          ]
        },
        {
          "output_type": "stream",
          "name": "stderr",
          "text": [
            "Epoch [60/100]: 100%|██████████| 4/4 [00:00<00:00, 99.19it/s, loss=12.9]\n"
          ]
        },
        {
          "output_type": "stream",
          "name": "stdout",
          "text": [
            "Epoch [60/100]: Train loss: 12.4111, Valid loss: 13.9991\n"
          ]
        },
        {
          "output_type": "stream",
          "name": "stderr",
          "text": [
            "Epoch [61/100]: 100%|██████████| 4/4 [00:00<00:00, 133.00it/s, loss=12]\n"
          ]
        },
        {
          "output_type": "stream",
          "name": "stdout",
          "text": [
            "Epoch [61/100]: Train loss: 12.0689, Valid loss: 12.9026\n",
            "Saving model with loss 12.903...\n"
          ]
        },
        {
          "output_type": "stream",
          "name": "stderr",
          "text": [
            "Epoch [62/100]: 100%|██████████| 4/4 [00:00<00:00, 109.48it/s, loss=17]\n"
          ]
        },
        {
          "output_type": "stream",
          "name": "stdout",
          "text": [
            "Epoch [62/100]: Train loss: 13.0514, Valid loss: 12.6174\n",
            "Saving model with loss 12.617...\n"
          ]
        },
        {
          "output_type": "stream",
          "name": "stderr",
          "text": [
            "Epoch [63/100]: 100%|██████████| 4/4 [00:00<00:00, 111.17it/s, loss=14.8]\n"
          ]
        },
        {
          "output_type": "stream",
          "name": "stdout",
          "text": [
            "Epoch [63/100]: Train loss: 12.3099, Valid loss: 12.5359\n",
            "Saving model with loss 12.536...\n"
          ]
        },
        {
          "output_type": "stream",
          "name": "stderr",
          "text": [
            "Epoch [64/100]: 100%|██████████| 4/4 [00:00<00:00, 145.16it/s, loss=10.1]\n"
          ]
        },
        {
          "output_type": "stream",
          "name": "stdout",
          "text": [
            "Epoch [64/100]: Train loss: 11.2172, Valid loss: 12.4153\n",
            "Saving model with loss 12.415...\n"
          ]
        },
        {
          "output_type": "stream",
          "name": "stderr",
          "text": [
            "Epoch [65/100]: 100%|██████████| 4/4 [00:00<00:00, 128.52it/s, loss=12.2]\n"
          ]
        },
        {
          "output_type": "stream",
          "name": "stdout",
          "text": [
            "Epoch [65/100]: Train loss: 11.6480, Valid loss: 12.6008\n"
          ]
        },
        {
          "output_type": "stream",
          "name": "stderr",
          "text": [
            "Epoch [66/100]: 100%|██████████| 4/4 [00:00<00:00, 99.31it/s, loss=10.5]\n"
          ]
        },
        {
          "output_type": "stream",
          "name": "stdout",
          "text": [
            "Epoch [66/100]: Train loss: 11.3414, Valid loss: 12.5427\n"
          ]
        },
        {
          "output_type": "stream",
          "name": "stderr",
          "text": [
            "Epoch [67/100]: 100%|██████████| 4/4 [00:00<00:00, 110.59it/s, loss=19.5]\n"
          ]
        },
        {
          "output_type": "stream",
          "name": "stdout",
          "text": [
            "Epoch [67/100]: Train loss: 13.4729, Valid loss: 12.2531\n",
            "Saving model with loss 12.253...\n"
          ]
        },
        {
          "output_type": "stream",
          "name": "stderr",
          "text": [
            "Epoch [68/100]: 100%|██████████| 4/4 [00:00<00:00, 144.28it/s, loss=8.77]\n"
          ]
        },
        {
          "output_type": "stream",
          "name": "stdout",
          "text": [
            "Epoch [68/100]: Train loss: 11.0703, Valid loss: 12.6446\n"
          ]
        },
        {
          "output_type": "stream",
          "name": "stderr",
          "text": [
            "Epoch [69/100]: 100%|██████████| 4/4 [00:00<00:00, 124.87it/s, loss=11.9]\n"
          ]
        },
        {
          "output_type": "stream",
          "name": "stdout",
          "text": [
            "Epoch [69/100]: Train loss: 11.7397, Valid loss: 13.2266\n"
          ]
        },
        {
          "output_type": "stream",
          "name": "stderr",
          "text": [
            "Epoch [70/100]: 100%|██████████| 4/4 [00:00<00:00, 91.51it/s, loss=10.6]\n"
          ]
        },
        {
          "output_type": "stream",
          "name": "stdout",
          "text": [
            "Epoch [70/100]: Train loss: 11.5079, Valid loss: 12.4574\n"
          ]
        },
        {
          "output_type": "stream",
          "name": "stderr",
          "text": [
            "Epoch [71/100]: 100%|██████████| 4/4 [00:00<00:00, 121.08it/s, loss=10.1]\n"
          ]
        },
        {
          "output_type": "stream",
          "name": "stdout",
          "text": [
            "Epoch [71/100]: Train loss: 11.0818, Valid loss: 13.0593\n"
          ]
        },
        {
          "output_type": "stream",
          "name": "stderr",
          "text": [
            "Epoch [72/100]: 100%|██████████| 4/4 [00:00<00:00, 116.63it/s, loss=10.8]\n"
          ]
        },
        {
          "output_type": "stream",
          "name": "stdout",
          "text": [
            "Epoch [72/100]: Train loss: 11.7750, Valid loss: 12.0925\n",
            "Saving model with loss 12.093...\n"
          ]
        },
        {
          "output_type": "stream",
          "name": "stderr",
          "text": [
            "Epoch [73/100]: 100%|██████████| 4/4 [00:00<00:00, 141.11it/s, loss=11.1]\n"
          ]
        },
        {
          "output_type": "stream",
          "name": "stdout",
          "text": [
            "Epoch [73/100]: Train loss: 11.4025, Valid loss: 12.0120\n",
            "Saving model with loss 12.012...\n"
          ]
        },
        {
          "output_type": "stream",
          "name": "stderr",
          "text": [
            "Epoch [74/100]: 100%|██████████| 4/4 [00:00<00:00, 120.03it/s, loss=16.8]\n"
          ]
        },
        {
          "output_type": "stream",
          "name": "stdout",
          "text": [
            "Epoch [74/100]: Train loss: 12.5448, Valid loss: 11.9612\n",
            "Saving model with loss 11.961...\n"
          ]
        },
        {
          "output_type": "stream",
          "name": "stderr",
          "text": [
            "Epoch [75/100]: 100%|██████████| 4/4 [00:00<00:00, 136.79it/s, loss=13.6]\n"
          ]
        },
        {
          "output_type": "stream",
          "name": "stdout",
          "text": [
            "Epoch [75/100]: Train loss: 11.7183, Valid loss: 12.2196\n"
          ]
        },
        {
          "output_type": "stream",
          "name": "stderr",
          "text": [
            "Epoch [76/100]: 100%|██████████| 4/4 [00:00<00:00, 123.35it/s, loss=7.64]\n"
          ]
        },
        {
          "output_type": "stream",
          "name": "stdout",
          "text": [
            "Epoch [76/100]: Train loss: 10.5369, Valid loss: 13.0245\n"
          ]
        },
        {
          "output_type": "stream",
          "name": "stderr",
          "text": [
            "Epoch [77/100]: 100%|██████████| 4/4 [00:00<00:00, 102.10it/s, loss=14.3]\n"
          ]
        },
        {
          "output_type": "stream",
          "name": "stdout",
          "text": [
            "Epoch [77/100]: Train loss: 12.0724, Valid loss: 12.0467\n"
          ]
        },
        {
          "output_type": "stream",
          "name": "stderr",
          "text": [
            "Epoch [78/100]: 100%|██████████| 4/4 [00:00<00:00, 138.73it/s, loss=14.6]\n"
          ]
        },
        {
          "output_type": "stream",
          "name": "stdout",
          "text": [
            "Epoch [78/100]: Train loss: 12.0122, Valid loss: 11.9119\n",
            "Saving model with loss 11.912...\n"
          ]
        },
        {
          "output_type": "stream",
          "name": "stderr",
          "text": [
            "Epoch [79/100]: 100%|██████████| 4/4 [00:00<00:00, 105.91it/s, loss=7.48]\n"
          ]
        },
        {
          "output_type": "stream",
          "name": "stdout",
          "text": [
            "Epoch [79/100]: Train loss: 10.3367, Valid loss: 11.8508\n",
            "Saving model with loss 11.851...\n"
          ]
        },
        {
          "output_type": "stream",
          "name": "stderr",
          "text": [
            "Epoch [80/100]: 100%|██████████| 4/4 [00:00<00:00, 120.06it/s, loss=8.05]\n"
          ]
        },
        {
          "output_type": "stream",
          "name": "stdout",
          "text": [
            "Epoch [80/100]: Train loss: 10.3402, Valid loss: 14.8974\n"
          ]
        },
        {
          "output_type": "stream",
          "name": "stderr",
          "text": [
            "Epoch [81/100]: 100%|██████████| 4/4 [00:00<00:00, 124.71it/s, loss=11]\n"
          ]
        },
        {
          "output_type": "stream",
          "name": "stdout",
          "text": [
            "Epoch [81/100]: Train loss: 11.9188, Valid loss: 12.3075\n"
          ]
        },
        {
          "output_type": "stream",
          "name": "stderr",
          "text": [
            "Epoch [82/100]: 100%|██████████| 4/4 [00:00<00:00, 117.15it/s, loss=18.1]\n"
          ]
        },
        {
          "output_type": "stream",
          "name": "stdout",
          "text": [
            "Epoch [82/100]: Train loss: 12.7714, Valid loss: 11.9688\n"
          ]
        },
        {
          "output_type": "stream",
          "name": "stderr",
          "text": [
            "Epoch [83/100]: 100%|██████████| 4/4 [00:00<00:00, 98.28it/s, loss=8.12]\n"
          ]
        },
        {
          "output_type": "stream",
          "name": "stdout",
          "text": [
            "Epoch [83/100]: Train loss: 10.6480, Valid loss: 13.6124\n"
          ]
        },
        {
          "output_type": "stream",
          "name": "stderr",
          "text": [
            "Epoch [84/100]: 100%|██████████| 4/4 [00:00<00:00, 124.41it/s, loss=12.7]\n"
          ]
        },
        {
          "output_type": "stream",
          "name": "stdout",
          "text": [
            "Epoch [84/100]: Train loss: 11.6794, Valid loss: 11.6500\n",
            "Saving model with loss 11.650...\n"
          ]
        },
        {
          "output_type": "stream",
          "name": "stderr",
          "text": [
            "Epoch [85/100]: 100%|██████████| 4/4 [00:00<00:00, 129.00it/s, loss=6.83]\n"
          ]
        },
        {
          "output_type": "stream",
          "name": "stdout",
          "text": [
            "Epoch [85/100]: Train loss: 10.0308, Valid loss: 11.6137\n",
            "Saving model with loss 11.614...\n"
          ]
        },
        {
          "output_type": "stream",
          "name": "stderr",
          "text": [
            "Epoch [86/100]: 100%|██████████| 4/4 [00:00<00:00, 134.25it/s, loss=13.5]\n"
          ]
        },
        {
          "output_type": "stream",
          "name": "stdout",
          "text": [
            "Epoch [86/100]: Train loss: 11.5861, Valid loss: 12.3414\n"
          ]
        },
        {
          "output_type": "stream",
          "name": "stderr",
          "text": [
            "Epoch [87/100]: 100%|██████████| 4/4 [00:00<00:00, 135.58it/s, loss=10]\n"
          ]
        },
        {
          "output_type": "stream",
          "name": "stdout",
          "text": [
            "Epoch [87/100]: Train loss: 11.2086, Valid loss: 11.6964\n"
          ]
        },
        {
          "output_type": "stream",
          "name": "stderr",
          "text": [
            "Epoch [88/100]: 100%|██████████| 4/4 [00:00<00:00, 136.63it/s, loss=15.4]\n"
          ]
        },
        {
          "output_type": "stream",
          "name": "stdout",
          "text": [
            "Epoch [88/100]: Train loss: 11.9155, Valid loss: 11.7875\n"
          ]
        },
        {
          "output_type": "stream",
          "name": "stderr",
          "text": [
            "Epoch [89/100]: 100%|██████████| 4/4 [00:00<00:00, 105.51it/s, loss=13.6]\n"
          ]
        },
        {
          "output_type": "stream",
          "name": "stdout",
          "text": [
            "Epoch [89/100]: Train loss: 11.4482, Valid loss: 11.8978\n"
          ]
        },
        {
          "output_type": "stream",
          "name": "stderr",
          "text": [
            "Epoch [90/100]: 100%|██████████| 4/4 [00:00<00:00, 104.58it/s, loss=9.84]\n"
          ]
        },
        {
          "output_type": "stream",
          "name": "stdout",
          "text": [
            "Epoch [90/100]: Train loss: 10.7376, Valid loss: 11.7238\n"
          ]
        },
        {
          "output_type": "stream",
          "name": "stderr",
          "text": [
            "Epoch [91/100]: 100%|██████████| 4/4 [00:00<00:00, 137.25it/s, loss=16.5]\n"
          ]
        },
        {
          "output_type": "stream",
          "name": "stdout",
          "text": [
            "Epoch [91/100]: Train loss: 11.9750, Valid loss: 12.8465\n"
          ]
        },
        {
          "output_type": "stream",
          "name": "stderr",
          "text": [
            "Epoch [92/100]: 100%|██████████| 4/4 [00:00<00:00, 112.78it/s, loss=15]\n"
          ]
        },
        {
          "output_type": "stream",
          "name": "stdout",
          "text": [
            "Epoch [92/100]: Train loss: 12.0972, Valid loss: 12.1571\n"
          ]
        },
        {
          "output_type": "stream",
          "name": "stderr",
          "text": [
            "Epoch [93/100]: 100%|██████████| 4/4 [00:00<00:00, 122.13it/s, loss=10.8]\n"
          ]
        },
        {
          "output_type": "stream",
          "name": "stdout",
          "text": [
            "Epoch [93/100]: Train loss: 10.9740, Valid loss: 13.6125\n"
          ]
        },
        {
          "output_type": "stream",
          "name": "stderr",
          "text": [
            "Epoch [94/100]: 100%|██████████| 4/4 [00:00<00:00, 126.73it/s, loss=8.65]\n"
          ]
        },
        {
          "output_type": "stream",
          "name": "stdout",
          "text": [
            "Epoch [94/100]: Train loss: 11.1962, Valid loss: 11.4508\n",
            "Saving model with loss 11.451...\n"
          ]
        },
        {
          "output_type": "stream",
          "name": "stderr",
          "text": [
            "Epoch [95/100]: 100%|██████████| 4/4 [00:00<00:00, 135.51it/s, loss=10.8]\n"
          ]
        },
        {
          "output_type": "stream",
          "name": "stdout",
          "text": [
            "Epoch [95/100]: Train loss: 10.7388, Valid loss: 11.4403\n",
            "Saving model with loss 11.440...\n"
          ]
        },
        {
          "output_type": "stream",
          "name": "stderr",
          "text": [
            "Epoch [96/100]: 100%|██████████| 4/4 [00:00<00:00, 124.05it/s, loss=8.54]\n"
          ]
        },
        {
          "output_type": "stream",
          "name": "stdout",
          "text": [
            "Epoch [96/100]: Train loss: 10.1195, Valid loss: 11.4078\n",
            "Saving model with loss 11.408...\n"
          ]
        },
        {
          "output_type": "stream",
          "name": "stderr",
          "text": [
            "Epoch [97/100]: 100%|██████████| 4/4 [00:00<00:00, 111.83it/s, loss=9.83]\n"
          ]
        },
        {
          "output_type": "stream",
          "name": "stdout",
          "text": [
            "Epoch [97/100]: Train loss: 10.3813, Valid loss: 11.4151\n"
          ]
        },
        {
          "output_type": "stream",
          "name": "stderr",
          "text": [
            "Epoch [98/100]: 100%|██████████| 4/4 [00:00<00:00, 108.52it/s, loss=10.7]\n"
          ]
        },
        {
          "output_type": "stream",
          "name": "stdout",
          "text": [
            "Epoch [98/100]: Train loss: 10.6684, Valid loss: 11.5475\n"
          ]
        },
        {
          "output_type": "stream",
          "name": "stderr",
          "text": [
            "Epoch [99/100]: 100%|██████████| 4/4 [00:00<00:00, 85.18it/s, loss=15.3]\n"
          ]
        },
        {
          "output_type": "stream",
          "name": "stdout",
          "text": [
            "Epoch [99/100]: Train loss: 11.7575, Valid loss: 11.5670\n"
          ]
        },
        {
          "output_type": "stream",
          "name": "stderr",
          "text": [
            "Epoch [100/100]: 100%|██████████| 4/4 [00:00<00:00, 125.22it/s, loss=8.39]\n"
          ]
        },
        {
          "output_type": "stream",
          "name": "stdout",
          "text": [
            "Epoch [100/100]: Train loss: 9.9715, Valid loss: 11.7137\n"
          ]
        }
      ],
      "source": [
        "model = My_Model(input_dim=x_train.shape[1]).to(device) # put your model and data on the same computation device.\n",
        "trainer(train_loader, valid_loader, model, config, device)"
      ]
    },
    {
      "cell_type": "markdown",
      "id": "c5022910-a1fe-489d-94b4-bebc752645b8",
      "metadata": {
        "tags": [],
        "id": "c5022910-a1fe-489d-94b4-bebc752645b8"
      },
      "source": [
        "## Testing\n",
        "The predictions of your model on testing set will be stored at pred.csv."
      ]
    },
    {
      "cell_type": "code",
      "execution_count": 53,
      "id": "b5a94850-c7d7-498b-a55b-57c50b74a53c",
      "metadata": {
        "tags": [],
        "id": "b5a94850-c7d7-498b-a55b-57c50b74a53c",
        "outputId": "b6909570-51ed-4eb7-ee50-640aeb037485",
        "colab": {
          "base_uri": "https://localhost:8080/"
        }
      },
      "outputs": [
        {
          "output_type": "stream",
          "name": "stderr",
          "text": [
            "100%|██████████| 4/4 [00:00<00:00, 679.73it/s]\n"
          ]
        }
      ],
      "source": [
        "def save_pred(preds, file):\n",
        "    ''' Save predictions to specified file '''\n",
        "    with open(file, 'w') as fp:\n",
        "        writer = csv.writer(fp)\n",
        "        writer.writerow(['id', 'tested_positive'])\n",
        "        for i, p in enumerate(preds):\n",
        "            writer.writerow([i, p])\n",
        "\n",
        "model = My_Model(input_dim=x_train.shape[1]).to(device)\n",
        "model.load_state_dict(torch.load(config['save_path']))\n",
        "preds = predict(test_loader, model, device)\n",
        "save_pred(preds, 'pred.csv')"
      ]
    },
    {
      "cell_type": "markdown",
      "id": "b8935f68-a9f7-493e-9a05-b9f2b2507bab",
      "metadata": {
        "tags": [],
        "id": "b8935f68-a9f7-493e-9a05-b9f2b2507bab"
      },
      "source": [
        "## Download\n",
        "Run this block to download the pred.csv by clicking."
      ]
    },
    {
      "cell_type": "code",
      "execution_count": 54,
      "id": "91903fcd-4a00-40af-8225-0b7c571688c1",
      "metadata": {
        "tags": [],
        "id": "91903fcd-4a00-40af-8225-0b7c571688c1",
        "outputId": "dcb53d36-c050-4189-e25b-a6e6f8a5270d",
        "colab": {
          "base_uri": "https://localhost:8080/",
          "height": 34
        }
      },
      "outputs": [
        {
          "output_type": "execute_result",
          "data": {
            "text/plain": [
              "/content/pred.csv"
            ],
            "text/html": [
              "<a href='pred.csv' target='_blank'>pred.csv</a><br>"
            ]
          },
          "metadata": {},
          "execution_count": 54
        }
      ],
      "source": [
        "from IPython.display import FileLink\n",
        "FileLink(r'pred.csv')"
      ]
    }
  ],
  "metadata": {
    "kernelspec": {
      "display_name": "Python 3",
      "name": "python3"
    },
    "language_info": {
      "codemirror_mode": {
        "name": "ipython",
        "version": 3
      },
      "file_extension": ".py",
      "mimetype": "text/x-python",
      "name": "python",
      "nbconvert_exporter": "python",
      "pygments_lexer": "ipython3",
      "version": "3.11.5"
    },
    "colab": {
      "provenance": [],
      "gpuType": "T4"
    },
    "accelerator": "GPU"
  },
  "nbformat": 4,
  "nbformat_minor": 5
}