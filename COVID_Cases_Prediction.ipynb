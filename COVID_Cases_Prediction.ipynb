{
 "cells": [
  {
   "cell_type": "markdown",
   "id": "14c780c5-3fc9-44de-8f68-fe17b53adb51",
   "metadata": {
    "tags": []
   },
   "source": [
    "# HW1: COVID-19 Cases Prediction (Regression)"
   ]
  },
  {
   "cell_type": "code",
   "execution_count": null,
   "id": "09d45bd5-e76f-4a7f-ae19-6daaa5e060e0",
   "metadata": {
    "tags": []
   },
   "outputs": [],
   "source": [
    "!nvidia-smi"
   ]
  },
  {
   "cell_type": "markdown",
   "id": "07a5eb62-8aa1-480d-be8a-a806e7f673f2",
   "metadata": {},
   "source": [
    "## Import packages"
   ]
  },
  {
   "cell_type": "code",
   "execution_count": null,
   "id": "60dcf099-64d6-4154-9794-0086700da529",
   "metadata": {
    "tags": []
   },
   "outputs": [],
   "source": [
    "# Numerical Operations\n",
    "import  math\n",
    "import numpy as np\n",
    "\n",
    "#Reading/Writing Data\n",
    "import pandas as pd\n",
    "import os\n",
    "import csv\n",
    "\n",
    "#For Progress Bar\n",
    "from tqdm import tqdm\n",
    "\n",
    "#Pytorch\n",
    "import torch\n",
    "import torch.nn as nn\n",
    "from torch.utils.data import Dataset, DataLoader, random_split\n",
    "\n",
    "#For plotting learning curve\n",
    "from torch.utils.tensorboard import SummaryWriter"
   ]
  },
  {
   "cell_type": "markdown",
   "id": "75ef6715-3156-4c9f-98ee-5cbf78000efb",
   "metadata": {},
   "source": [
    "## Some Utility Functions\n",
    "You do not need to modify this part."
   ]
  },
  {
   "cell_type": "code",
   "execution_count": null,
   "id": "fccf6bfe-baf3-4a7e-8f15-d9af3664a2ee",
   "metadata": {
    "tags": []
   },
   "outputs": [],
   "source": [
    "def same_seed(seed): \n",
    "    '''Fixes random number generator seeds for reproducibility.'''\n",
    "    torch.backends.cudnn.deterministic = True    #cudnn(CUDA Deep Neural Network) 為加速神經網路的library,設置deterministic=true,隨機性將被禁用\n",
    "    torch.backends.cudnn.benchmark = False       #關閉cudnn的性能優化，cudnn會通過優化convolution等操作來提升性能，但可能導致運行結果不一致。\n",
    "    np.random.seed(seed)                         #設定NumPy函式庫中的隨機數產生器的種子，以確保NumPy產生的隨機數與隨機性運算的順序無關。 \n",
    "    torch.manual_seed(seed)                      #設定PyTorch的隨機數產生器的種子，以確保模型的初始化、權重初始化等操作是確定性的。\n",
    "    if torch.cuda.is_available():                #檢查可用的GPU\n",
    "        torch.cuda.manual_seed_all(seed)         #設定所有GPU裝置上的隨機數產生器的種子，以確保在使用GPU進行訓練時的結果可重複。\n",
    "            \n",
    "def train_valid_split(data_set, valid_ratio, seed):\n",
    "    '''Split provided training data into training set and validation set'''\n",
    "    valid_set_size = int(valid_ratio * len(data_set)) \n",
    "    train_set_size = len(data_set) - valid_set_size\n",
    "    train_set, valid_set = random_split(data_set, [train_set_size, valid_set_size], generator=torch.Generator().manual_seed(seed))\n",
    "    return np.array(train_set), np.array(valid_set)\n",
    "\n",
    "#\n",
    "def predict(test_loader, model, device):\n",
    "    '''Make predictions on test data set, and no resources are wasted to compute gradients  '''\n",
    "    model.eval() # Set your model to evaluation mode. Disables Dropout and batch normalization值不變, 也不計算gradient\n",
    "    preds = []\n",
    "    for x in tqdm(test_loader):\n",
    "        x = x.to(device)                        \n",
    "        with torch.no_grad():                   \n",
    "            pred = model(x)                     \n",
    "            preds.append(pred.detach().cpu())   #detach():預測階段不保留gradient訊息(減少內存消耗), cpu(): 將data從GPU移動到CPU(方便後續numpy操作)\n",
    "    preds = torch.cat(preds, dim=0).numpy()     #convert to numpy array\n",
    "    return preds\n",
    "                            "
   ]
  },
  {
   "cell_type": "markdown",
   "id": "6d95cb92-6ac0-42c4-be1e-fb106f20533f",
   "metadata": {
    "tags": []
   },
   "source": [
    "## Dataset"
   ]
  },
  {
   "cell_type": "code",
   "execution_count": null,
   "id": "ddf3d1e0-974b-4240-8ad5-347c9f551c73",
   "metadata": {
    "tags": []
   },
   "outputs": [],
   "source": [
    "class COVID19Dataset(Dataset):          #Inheritance Pytorch Dataset\n",
    "    '''\n",
    "    x: Features.\n",
    "    y: Targets, if none, do prediction.\n",
    "    '''\n",
    "    def __init__(self, x, y=None):      #constructor\n",
    "        if y is None:\n",
    "            self.y = y\n",
    "        else:\n",
    "            self.y = torch.FloatTensor(y)\n",
    "        self.x = torch.FloatTensor(x)\n",
    "\n",
    "    def __getitem__(self, idx):\n",
    "        if self.y is None:\n",
    "            return self.x[idx]\n",
    "        else:\n",
    "            return self.x[idx], self.y[idx]\n",
    "\n",
    "    def __len__(self):\n",
    "        return len(self.x)"
   ]
  },
  {
   "cell_type": "markdown",
   "id": "0742fffa-bcf5-418e-be89-60e34774ab76",
   "metadata": {
    "tags": []
   },
   "source": [
    "## Neural Network Model\n",
    "Try out different model architectures by modifying the class below."
   ]
  },
  {
   "cell_type": "code",
   "execution_count": null,
   "id": "8d6e4e34-658b-4618-a44c-c4ada8bc5bb7",
   "metadata": {
    "tags": []
   },
   "outputs": [],
   "source": [
    "class My_Model(nn.Module):\n",
    "    def __init__(self, input_dim):\n",
    "        super(My_Model, self).__init__()   #call parent class(nn.Module) __init__ constructor         \n",
    "        self.layers = nn.Sequential(\n",
    "            nn.Linear(input_dim, 16),  #fully-connected layer\n",
    "            nn.ReLU(),                 #activation function\n",
    "            nn.Linear(16, 8),\n",
    "            nn.ReLU(),\n",
    "            nn.Linear(8, 1)\n",
    "        )\n",
    "        \n",
    "    def forward(self, x):\n",
    "        '''Forward pass: compute ouput of NN'''\n",
    "        x = self.layers(x)\n",
    "        x = x.squeeze(1) # (B, 1) -> (B) , remove the specified dimension with length = 1\n",
    "        return x"
   ]
  },
  {
   "cell_type": "markdown",
   "id": "524a9e5f-f413-4b2e-9799-c6cca4f2760f",
   "metadata": {
    "tags": []
   },
   "source": [
    "## Feature Selection \n",
    "Choose features you deem useful by modifying the function below."
   ]
  },
  {
   "cell_type": "code",
   "execution_count": null,
   "id": "efc3ec28-0af5-4ebb-a5ba-be6f39794274",
   "metadata": {
    "tags": []
   },
   "outputs": [],
   "source": [
    "def select_feat(train_data, valid_data, test_data, select_all=True):\n",
    "    '''Selects useful features to perform regression'''\n",
    "    y_train, y_valid = train_data[:,-1], valid_data[:,-1]\n",
    "    raw_x_train, raw_x_valid, raw_x_test = train_data[:,:-1], valid_data[:,:-1], test_data\n",
    "\n",
    "    if select_all:\n",
    "        feat_idx = list(range(raw_x_train.shape[1]))\n",
    "    else:\n",
    "        feat_idx = list(range(35, raw_x_train.shape[1])) \n",
    "        \n",
    "    return raw_x_train[:,feat_idx], raw_x_valid[:,feat_idx], raw_x_test[:,feat_idx], y_train, y_valid"
   ]
  },
  {
   "cell_type": "markdown",
   "id": "0f95677d-4961-4011-a223-519d9e815694",
   "metadata": {
    "tags": []
   },
   "source": [
    "## Training Loop"
   ]
  },
  {
   "cell_type": "code",
   "execution_count": null,
   "id": "9365580c-078f-4baf-a1b9-14f94e8bc014",
   "metadata": {
    "tags": []
   },
   "outputs": [],
   "source": [
    "def trainer(train_loader, valid_loader, model, config, device):\n",
    "\n",
    "    criterion = nn.MSELoss(reduction='mean') # Define your loss function.\n",
    "\n",
    "    # Define optimization algorithm. \n",
    "    optimizer = torch.optim.SGD(model.parameters(), lr=config['learning_rate'], momentum=0.7) \n",
    "    writer = SummaryWriter() # Writer of tensoboard.\n",
    "\n",
    "    if not os.path.isdir('./models'):\n",
    "        os.mkdir('./models') # Create directory of saving models.\n",
    "\n",
    "    n_epochs, best_loss, step, early_stop_count = config['n_epochs'], math.inf, 0, 0\n",
    "\n",
    "    #Neural Network Training Loop\n",
    "    for epoch in range(n_epochs):\n",
    "        model.train() # Set your model to train mode.\n",
    "        loss_record = []\n",
    "\n",
    "        # tqdm is a package to visualize your training progress.\n",
    "        train_pbar = tqdm(train_loader, position=0, leave=True)\n",
    "\n",
    "        for x, y in train_pbar:\n",
    "            optimizer.zero_grad()               # Reset gradients of model parameters.\n",
    "            x, y = x.to(device), y.to(device)   # Move your data to device(GPU or CPU). \n",
    "            pred = model(x)                     # Input x to model to get pred\n",
    "            loss = criterion(pred, y)           # pred & y(期望值) 計算loss\n",
    "            loss.backward()                     # Compute gradient(backpropagation) of predictions loss. (計算loss的gradient)\n",
    "            optimizer.step()                    # Update model parameters.\n",
    "            step += 1\n",
    "            loss_record.append(loss.detach().item())\n",
    "            \n",
    "            # Display current epoch number and loss on tqdm progress bar.\n",
    "            train_pbar.set_description(f'Epoch [{epoch+1}/{n_epochs}]')\n",
    "            train_pbar.set_postfix({'loss': loss.detach().item()})\n",
    "\n",
    "        mean_train_loss = sum(loss_record)/len(loss_record)  #compute averaged loss\n",
    "        writer.add_scalar('Loss/train', mean_train_loss, step) #visualize \n",
    "        \n",
    "        #Neural Network Validation Loop\n",
    "        model.eval() # Set your model to evaluation mode.\n",
    "        loss_record = []  \n",
    "        for x, y in valid_loader:\n",
    "            x, y = x.to(device), y.to(device)\n",
    "            with torch.no_grad():             #在做evaluation/testing時, 不希望model學習到資料的內容以及update參數,所以關掉計算gradient\n",
    "                pred = model(x)\n",
    "                loss = criterion(pred, y)\n",
    "\n",
    "            loss_record.append(loss.item())\n",
    "            \n",
    "        mean_valid_loss = sum(loss_record)/len(loss_record)\n",
    "        print(f'Epoch [{epoch+1}/{n_epochs}]: Train loss: {mean_train_loss:.4f}, Valid loss: {mean_valid_loss:.4f}')\n",
    "        writer.add_scalar('Loss/valid', mean_valid_loss, step)\n",
    "\n",
    "        if mean_valid_loss < best_loss:\n",
    "            best_loss = mean_valid_loss\n",
    "            torch.save(model.state_dict(), config['save_path']) # Save your best model\n",
    "            print('Saving model with loss {:.3f}...'.format(best_loss))\n",
    "            early_stop_count = 0\n",
    "        else: \n",
    "            early_stop_count += 1\n",
    "\n",
    "        if early_stop_count >= config['early_stop']:\n",
    "            print('\\nModel is not improving, so we halt the training session.')\n",
    "            return"
   ]
  },
  {
   "cell_type": "markdown",
   "id": "ba02b712-f325-4036-8ad6-34f020fc0922",
   "metadata": {
    "tags": []
   },
   "source": [
    "## Plot learning curves with 'tensorboard'\n",
    "visualize your training progress"
   ]
  },
  {
   "cell_type": "code",
   "execution_count": null,
   "id": "4744a79d-f856-4a08-a099-48dfd9ca01e0",
   "metadata": {
    "tags": []
   },
   "outputs": [],
   "source": [
    "%reload_ext tensorboard\n",
    "%tensorboard --logdir='./runs/'"
   ]
  },
  {
   "cell_type": "markdown",
   "id": "9d20b29f-a445-4553-9a3c-b689539f7f65",
   "metadata": {
    "tags": []
   },
   "source": [
    "## Configurations\n",
    "config contains hyper-parameters for training and the path to save your model."
   ]
  },
  {
   "cell_type": "code",
   "execution_count": null,
   "id": "ec5e9c9a-7597-4cc6-837f-86c3364fb904",
   "metadata": {
    "tags": []
   },
   "outputs": [],
   "source": [
    "device = 'cuda' if torch.cuda.is_available() else 'cpu'\n",
    "config = {\n",
    "    'seed': 6666,         # seed number\n",
    "    'select_all': True,   # Whether to use all features.\n",
    "    'valid_ratio': 0.2,   # validation_size = train_size * valid_ratio\n",
    "    'n_epochs': 100,     # Number of epochs.            \n",
    "    'batch_size': 256, \n",
    "    'learning_rate': 1e-5,              \n",
    "    'early_stop': 5,    # If model has not improved for this many consecutive epochs, stop training.     \n",
    "    'save_path': './models/model.ckpt'  # Your model will be saved here.\n",
    "}"
   ]
  },
  {
   "cell_type": "markdown",
   "id": "236c04a0-b918-4bb1-9d16-4a8bb67795e8",
   "metadata": {
    "tags": []
   },
   "source": [
    "## Dataloader\n",
    "Read data from files and set up training, validation, and testing sets. You do not need to modify this part."
   ]
  },
  {
   "cell_type": "code",
   "execution_count": null,
   "id": "f42ed966-af6f-4d1c-91e5-a1c62b73d46a",
   "metadata": {
    "tags": []
   },
   "outputs": [],
   "source": [
    "# Set seed for reproducibility\n",
    "same_seed(config['seed'])\n",
    "\n",
    "\n",
    "# train_data size: 3009 x 89 (35 states + 18 features x 3 days) \n",
    "# test_data size: 997 x 88 (without last day's positive rate)\n",
    "train_data, test_data = pd.read_csv('./covid_train.csv').values, pd.read_csv('./covid_test.csv').values\n",
    "train_data, valid_data = train_valid_split(train_data, config['valid_ratio'], config['seed'])\n",
    "\n",
    "# Print out the data size.\n",
    "print(f\"\"\"train_data size: {train_data.shape} \n",
    "valid_data size: {valid_data.shape} \n",
    "test_data size: {test_data.shape}\"\"\")\n",
    "\n",
    "# Select features\n",
    "x_train, x_valid, x_test, y_train, y_valid = select_feat(train_data, valid_data, test_data, config['select_all'])\n",
    "\n",
    "# Print out the number of features.\n",
    "print(f'number of features: {x_train.shape[1]}')\n",
    "\n",
    "train_dataset, valid_dataset, test_dataset = COVID19Dataset(x_train, y_train), \\\n",
    "                                            COVID19Dataset(x_valid, y_valid), \\\n",
    "                                            COVID19Dataset(x_test)\n",
    "\n",
    "# Pytorch data loader loads pytorch dataset into batches.\n",
    "train_loader = DataLoader(train_dataset, batch_size=config['batch_size'], shuffle=True, pin_memory=True)\n",
    "valid_loader = DataLoader(valid_dataset, batch_size=config['batch_size'], shuffle=True, pin_memory=True)\n",
    "test_loader = DataLoader(test_dataset, batch_size=config['batch_size'], shuffle=False, pin_memory=True)  #disable shuffle when testing"
   ]
  },
  {
   "cell_type": "markdown",
   "id": "3294cd3f-9162-47ab-9074-dc1f77b12268",
   "metadata": {
    "tags": []
   },
   "source": [
    "## Start training"
   ]
  },
  {
   "cell_type": "code",
   "execution_count": null,
   "id": "3e75c28f-5137-4ad9-a609-e1100cf2700b",
   "metadata": {
    "tags": []
   },
   "outputs": [],
   "source": [
    "model = My_Model(input_dim=x_train.shape[1]).to(device) # put your model and data on the same computation device.\n",
    "trainer(train_loader, valid_loader, model, config, device)"
   ]
  },
  {
   "cell_type": "markdown",
   "id": "c5022910-a1fe-489d-94b4-bebc752645b8",
   "metadata": {
    "tags": []
   },
   "source": [
    "## Testing\n",
    "The predictions of your model on testing set will be stored at pred.csv."
   ]
  },
  {
   "cell_type": "code",
   "execution_count": null,
   "id": "b5a94850-c7d7-498b-a55b-57c50b74a53c",
   "metadata": {
    "tags": []
   },
   "outputs": [],
   "source": [
    "def save_pred(preds, file):\n",
    "    ''' Save predictions to specified file '''\n",
    "    with open(file, 'w') as fp:\n",
    "        writer = csv.writer(fp)\n",
    "        writer.writerow(['id', 'tested_positive'])\n",
    "        for i, p in enumerate(preds):\n",
    "            writer.writerow([i, p])\n",
    "\n",
    "model = My_Model(input_dim=x_train.shape[1]).to(device)\n",
    "model.load_state_dict(torch.load(config['save_path']))\n",
    "preds = predict(test_loader, model, device) \n",
    "save_pred(preds, 'pred.csv')         "
   ]
  },
  {
   "cell_type": "markdown",
   "id": "b8935f68-a9f7-493e-9a05-b9f2b2507bab",
   "metadata": {
    "tags": []
   },
   "source": [
    "## Download\n",
    "Run this block to download the pred.csv by clicking."
   ]
  },
  {
   "cell_type": "code",
   "execution_count": null,
   "id": "91903fcd-4a00-40af-8225-0b7c571688c1",
   "metadata": {
    "tags": []
   },
   "outputs": [],
   "source": [
    "from IPython.display import FileLink\n",
    "FileLink(r'pred.csv')"
   ]
  }
 ],
 "metadata": {
  "kernelspec": {
   "display_name": "Python 3 (ipykernel)",
   "language": "python",
   "name": "python3"
  },
  "language_info": {
   "codemirror_mode": {
    "name": "ipython",
    "version": 3
   },
   "file_extension": ".py",
   "mimetype": "text/x-python",
   "name": "python",
   "nbconvert_exporter": "python",
   "pygments_lexer": "ipython3",
   "version": "3.11.5"
  }
 },
 "nbformat": 4,
 "nbformat_minor": 5
}
